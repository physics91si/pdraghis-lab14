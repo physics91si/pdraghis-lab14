{
 "cells": [
  {
   "cell_type": "code",
   "execution_count": 35,
   "metadata": {
    "collapsed": true
   },
   "outputs": [],
   "source": [
    "import numpy as np\n",
    "from _run_life import run_life\n",
    "import cProfile\n",
    "import re"
   ]
  },
  {
   "cell_type": "code",
   "execution_count": 36,
   "metadata": {
    "collapsed": false
   },
   "outputs": [
    {
     "name": "stdout",
     "output_type": "stream",
     "text": [
      "         97 function calls in 0.001 seconds\n",
      "\n",
      "   Ordered by: standard name\n",
      "\n",
      "   ncalls  tottime  percall  cumtime  percall filename:lineno(function)\n",
      "        1    0.000    0.000    0.001    0.001 <string>:1(<module>)\n",
      "        1    0.000    0.000    0.001    0.001 re.py:192(compile)\n",
      "        1    0.000    0.000    0.001    0.001 re.py:230(_compile)\n",
      "        1    0.000    0.000    0.000    0.000 sre_compile.py:433(_compile_info)\n",
      "        2    0.000    0.000    0.000    0.000 sre_compile.py:546(isstring)\n",
      "        1    0.000    0.000    0.000    0.000 sre_compile.py:552(_code)\n",
      "        1    0.000    0.000    0.001    0.001 sre_compile.py:567(compile)\n",
      "        1    0.000    0.000    0.000    0.000 sre_compile.py:64(_compile)\n",
      "        4    0.000    0.000    0.000    0.000 sre_parse.py:149(append)\n",
      "        1    0.000    0.000    0.000    0.000 sre_parse.py:151(getwidth)\n",
      "        1    0.000    0.000    0.000    0.000 sre_parse.py:189(__init__)\n",
      "        7    0.001    0.000    0.001    0.000 sre_parse.py:193(__next)\n",
      "        1    0.000    0.000    0.000    0.000 sre_parse.py:206(match)\n",
      "        6    0.000    0.000    0.001    0.000 sre_parse.py:212(get)\n",
      "        1    0.000    0.000    0.001    0.001 sre_parse.py:317(_parse_sub)\n",
      "        1    0.000    0.000    0.001    0.001 sre_parse.py:395(_parse)\n",
      "        1    0.000    0.000    0.000    0.000 sre_parse.py:67(__init__)\n",
      "        1    0.000    0.000    0.001    0.001 sre_parse.py:706(parse)\n",
      "        1    0.000    0.000    0.000    0.000 sre_parse.py:92(__init__)\n",
      "        1    0.000    0.000    0.000    0.000 {_sre.compile}\n",
      "        3    0.000    0.000    0.000    0.000 {isinstance}\n",
      "       24    0.000    0.000    0.000    0.000 {len}\n",
      "       25    0.000    0.000    0.000    0.000 {method 'append' of 'list' objects}\n",
      "        1    0.000    0.000    0.000    0.000 {method 'disable' of '_lsprof.Profiler' objects}\n",
      "        2    0.000    0.000    0.000    0.000 {method 'extend' of 'list' objects}\n",
      "        1    0.000    0.000    0.000    0.000 {method 'items' of 'dict' objects}\n",
      "        2    0.000    0.000    0.000    0.000 {min}\n",
      "        4    0.000    0.000    0.000    0.000 {ord}\n",
      "\n",
      "\n"
     ]
    }
   ],
   "source": [
    "#%timeit\n",
    "def life(n=20, plot=False):\n",
    "    \"\"\"Set up the board and start the simulation\"\"\"\n",
    "    # Fill the board randomly (but with a known seed for repeatability)\n",
    "    np.random.seed(1)\n",
    "    board = [[np.random.randint(0, 2) for i in range(n)] for j in range(n)]\n",
    "\n",
    "    ####### DON'T CHANGE THIS LINE #######\n",
    "    run_life(board, update, n, plot=plot)\n",
    "cProfile.run('re.compile(\"life\")')"
   ]
  },
  {
   "cell_type": "code",
   "execution_count": 37,
   "metadata": {
    "collapsed": false
   },
   "outputs": [
    {
     "name": "stdout",
     "output_type": "stream",
     "text": [
      "         119 function calls in 0.000 seconds\n",
      "\n",
      "   Ordered by: standard name\n",
      "\n",
      "   ncalls  tottime  percall  cumtime  percall filename:lineno(function)\n",
      "        1    0.000    0.000    0.000    0.000 <string>:1(<module>)\n",
      "        1    0.000    0.000    0.000    0.000 re.py:192(compile)\n",
      "        1    0.000    0.000    0.000    0.000 re.py:230(_compile)\n",
      "        1    0.000    0.000    0.000    0.000 sre_compile.py:433(_compile_info)\n",
      "        2    0.000    0.000    0.000    0.000 sre_compile.py:546(isstring)\n",
      "        1    0.000    0.000    0.000    0.000 sre_compile.py:552(_code)\n",
      "        1    0.000    0.000    0.000    0.000 sre_compile.py:567(compile)\n",
      "        1    0.000    0.000    0.000    0.000 sre_compile.py:64(_compile)\n",
      "        6    0.000    0.000    0.000    0.000 sre_parse.py:149(append)\n",
      "        1    0.000    0.000    0.000    0.000 sre_parse.py:151(getwidth)\n",
      "        1    0.000    0.000    0.000    0.000 sre_parse.py:189(__init__)\n",
      "        9    0.000    0.000    0.000    0.000 sre_parse.py:193(__next)\n",
      "        1    0.000    0.000    0.000    0.000 sre_parse.py:206(match)\n",
      "        8    0.000    0.000    0.000    0.000 sre_parse.py:212(get)\n",
      "        1    0.000    0.000    0.000    0.000 sre_parse.py:317(_parse_sub)\n",
      "        1    0.000    0.000    0.000    0.000 sre_parse.py:395(_parse)\n",
      "        1    0.000    0.000    0.000    0.000 sre_parse.py:67(__init__)\n",
      "        1    0.000    0.000    0.000    0.000 sre_parse.py:706(parse)\n",
      "        1    0.000    0.000    0.000    0.000 sre_parse.py:92(__init__)\n",
      "        1    0.000    0.000    0.000    0.000 {_sre.compile}\n",
      "        3    0.000    0.000    0.000    0.000 {isinstance}\n",
      "       30    0.000    0.000    0.000    0.000 {len}\n",
      "       33    0.000    0.000    0.000    0.000 {method 'append' of 'list' objects}\n",
      "        1    0.000    0.000    0.000    0.000 {method 'disable' of '_lsprof.Profiler' objects}\n",
      "        2    0.000    0.000    0.000    0.000 {method 'extend' of 'list' objects}\n",
      "        1    0.000    0.000    0.000    0.000 {method 'items' of 'dict' objects}\n",
      "        2    0.000    0.000    0.000    0.000 {min}\n",
      "        6    0.000    0.000    0.000    0.000 {ord}\n",
      "\n",
      "\n"
     ]
    }
   ],
   "source": [
    "#%timeit\n",
    "def update(board, n):\n",
    "    \"\"\"Calculate the next board from the current board\"\"\"\n",
    "    # Create the board at t+1 and zero-fill it\n",
    "    next_board = [[0 for i in range(n)] for j in range(n)]\n",
    "\n",
    "    # Figure out what to do to each cell\n",
    "    for i in range(n):\n",
    "        for j in range(n):\n",
    "            n_alive_neighbors = get_n_alive_neighbors(board, n, i, j)\n",
    "\n",
    "            # Apply live/die rules\n",
    "            if board[i][j] == 1:\n",
    "                if n_alive_neighbors in (2, 3):\n",
    "                    next_board[i][j] = 1\n",
    "                else:\n",
    "                    next_board[i][j] = 0\n",
    "\n",
    "            if board[i][j] == 0:\n",
    "                if n_alive_neighbors == 3:\n",
    "                    next_board[i][j] = 1\n",
    "                else:\n",
    "                    next_board[i][j] = 0\n",
    "\n",
    "    # Copy the next board into the current board\n",
    "    for i in range(n):\n",
    "        for j in range(n):\n",
    "            board[i][j] = next_board[i][j]\n",
    "cProfile.run('re.compile(\"update\")')"
   ]
  },
  {
   "cell_type": "code",
   "execution_count": 38,
   "metadata": {
    "collapsed": false
   },
   "outputs": [
    {
     "name": "stdout",
     "output_type": "stream",
     "text": [
      "         284 function calls in 0.000 seconds\n",
      "\n",
      "   Ordered by: standard name\n",
      "\n",
      "   ncalls  tottime  percall  cumtime  percall filename:lineno(function)\n",
      "        1    0.000    0.000    0.000    0.000 <string>:1(<module>)\n",
      "        1    0.000    0.000    0.000    0.000 re.py:192(compile)\n",
      "        1    0.000    0.000    0.000    0.000 re.py:230(_compile)\n",
      "        1    0.000    0.000    0.000    0.000 sre_compile.py:433(_compile_info)\n",
      "        2    0.000    0.000    0.000    0.000 sre_compile.py:546(isstring)\n",
      "        1    0.000    0.000    0.000    0.000 sre_compile.py:552(_code)\n",
      "        1    0.000    0.000    0.000    0.000 sre_compile.py:567(compile)\n",
      "        1    0.000    0.000    0.000    0.000 sre_compile.py:64(_compile)\n",
      "       21    0.000    0.000    0.000    0.000 sre_parse.py:149(append)\n",
      "        1    0.000    0.000    0.000    0.000 sre_parse.py:151(getwidth)\n",
      "        1    0.000    0.000    0.000    0.000 sre_parse.py:189(__init__)\n",
      "       24    0.000    0.000    0.000    0.000 sre_parse.py:193(__next)\n",
      "        1    0.000    0.000    0.000    0.000 sre_parse.py:206(match)\n",
      "       23    0.000    0.000    0.000    0.000 sre_parse.py:212(get)\n",
      "        1    0.000    0.000    0.000    0.000 sre_parse.py:317(_parse_sub)\n",
      "        1    0.000    0.000    0.000    0.000 sre_parse.py:395(_parse)\n",
      "        1    0.000    0.000    0.000    0.000 sre_parse.py:67(__init__)\n",
      "        1    0.000    0.000    0.000    0.000 sre_parse.py:706(parse)\n",
      "        1    0.000    0.000    0.000    0.000 sre_parse.py:92(__init__)\n",
      "        1    0.000    0.000    0.000    0.000 {_sre.compile}\n",
      "        3    0.000    0.000    0.000    0.000 {isinstance}\n",
      "       75    0.000    0.000    0.000    0.000 {len}\n",
      "       93    0.000    0.000    0.000    0.000 {method 'append' of 'list' objects}\n",
      "        1    0.000    0.000    0.000    0.000 {method 'disable' of '_lsprof.Profiler' objects}\n",
      "        2    0.000    0.000    0.000    0.000 {method 'extend' of 'list' objects}\n",
      "        1    0.000    0.000    0.000    0.000 {method 'items' of 'dict' objects}\n",
      "        2    0.000    0.000    0.000    0.000 {min}\n",
      "       21    0.000    0.000    0.000    0.000 {ord}\n",
      "\n",
      "\n"
     ]
    }
   ],
   "source": [
    "#%timeit\n",
    "def get_n_alive_neighbors(board, n, i, j):\n",
    "    \"\"\"Return the number of neighbors of (i, j) that are alive\"\"\"\n",
    "    n_alive_neighbors = 0\n",
    "    # Go through all the positions on the board and add up how many\n",
    "    # alive ones there are, but only if they're neighbors\n",
    "    for i_neighbor in range(n):\n",
    "        for j_neighbor in range(n):\n",
    "                neighbor_val = board[i_neighbor][j_neighbor]\n",
    "                if is_neighbor(i, j, i_neighbor, j_neighbor):\n",
    "                    n_alive_neighbors += neighbor_val\n",
    "\n",
    "    return n_alive_neighbors\n",
    "cProfile.run('re.compile(\"get_n_alive_neighbors\")')"
   ]
  },
  {
   "cell_type": "code",
   "execution_count": 39,
   "metadata": {
    "collapsed": false
   },
   "outputs": [
    {
     "name": "stdout",
     "output_type": "stream",
     "text": [
      "         174 function calls in 0.000 seconds\n",
      "\n",
      "   Ordered by: standard name\n",
      "\n",
      "   ncalls  tottime  percall  cumtime  percall filename:lineno(function)\n",
      "        1    0.000    0.000    0.000    0.000 <string>:1(<module>)\n",
      "        1    0.000    0.000    0.000    0.000 re.py:192(compile)\n",
      "        1    0.000    0.000    0.000    0.000 re.py:230(_compile)\n",
      "        1    0.000    0.000    0.000    0.000 sre_compile.py:433(_compile_info)\n",
      "        2    0.000    0.000    0.000    0.000 sre_compile.py:546(isstring)\n",
      "        1    0.000    0.000    0.000    0.000 sre_compile.py:552(_code)\n",
      "        1    0.000    0.000    0.000    0.000 sre_compile.py:567(compile)\n",
      "        1    0.000    0.000    0.000    0.000 sre_compile.py:64(_compile)\n",
      "       11    0.000    0.000    0.000    0.000 sre_parse.py:149(append)\n",
      "        1    0.000    0.000    0.000    0.000 sre_parse.py:151(getwidth)\n",
      "        1    0.000    0.000    0.000    0.000 sre_parse.py:189(__init__)\n",
      "       14    0.000    0.000    0.000    0.000 sre_parse.py:193(__next)\n",
      "        1    0.000    0.000    0.000    0.000 sre_parse.py:206(match)\n",
      "       13    0.000    0.000    0.000    0.000 sre_parse.py:212(get)\n",
      "        1    0.000    0.000    0.000    0.000 sre_parse.py:317(_parse_sub)\n",
      "        1    0.000    0.000    0.000    0.000 sre_parse.py:395(_parse)\n",
      "        1    0.000    0.000    0.000    0.000 sre_parse.py:67(__init__)\n",
      "        1    0.000    0.000    0.000    0.000 sre_parse.py:706(parse)\n",
      "        1    0.000    0.000    0.000    0.000 sre_parse.py:92(__init__)\n",
      "        1    0.000    0.000    0.000    0.000 {_sre.compile}\n",
      "        3    0.000    0.000    0.000    0.000 {isinstance}\n",
      "       45    0.000    0.000    0.000    0.000 {len}\n",
      "       53    0.000    0.000    0.000    0.000 {method 'append' of 'list' objects}\n",
      "        1    0.000    0.000    0.000    0.000 {method 'disable' of '_lsprof.Profiler' objects}\n",
      "        2    0.000    0.000    0.000    0.000 {method 'extend' of 'list' objects}\n",
      "        1    0.000    0.000    0.000    0.000 {method 'items' of 'dict' objects}\n",
      "        2    0.000    0.000    0.000    0.000 {min}\n",
      "       11    0.000    0.000    0.000    0.000 {ord}\n",
      "\n",
      "\n"
     ]
    }
   ],
   "source": [
    "#%timeit\n",
    "def is_neighbor(i1, j1, i2, j2):\n",
    "    \"\"\"Return True if (i1, j1) is a neighbor of (i2, j2)\"\"\"\n",
    "    if abs(i1 - i2) <= 1 and abs(j1 - j2) <= 1 and (\n",
    "        i1 != i2 or j1 != j2):\n",
    "        return True\n",
    "    else:\n",
    "        return False\n",
    "cProfile.run('re.compile(\"is_neighbor\")')"
   ]
  },
  {
   "cell_type": "code",
   "execution_count": 42,
   "metadata": {
    "collapsed": false
   },
   "outputs": [],
   "source": [
    "####### DON'T CHANGE BELOW HERE #######\n",
    "if __name__ == '__main__':\n",
    "    life(n=20, plot=False)\n"
   ]
  },
  {
   "cell_type": "code",
   "execution_count": null,
   "metadata": {
    "collapsed": true
   },
   "outputs": [],
   "source": []
  }
 ],
 "metadata": {
  "kernelspec": {
   "display_name": "Python 2",
   "language": "python",
   "name": "python2"
  },
  "language_info": {
   "codemirror_mode": {
    "name": "ipython",
    "version": 2
   },
   "file_extension": ".py",
   "mimetype": "text/x-python",
   "name": "python",
   "nbconvert_exporter": "python",
   "pygments_lexer": "ipython2",
   "version": "2.7.11"
  }
 },
 "nbformat": 4,
 "nbformat_minor": 0
}

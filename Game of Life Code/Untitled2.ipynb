{
 "cells": [
  {
   "cell_type": "code",
   "execution_count": 9,
   "metadata": {
    "collapsed": false
   },
   "outputs": [
    {
     "name": "stdout",
     "output_type": "stream",
     "text": [
      "         140 function calls in 0.000 seconds\n",
      "\n",
      "   Ordered by: standard name\n",
      "\n",
      "   ncalls  tottime  percall  cumtime  percall filename:lineno(function)\n",
      "        1    0.000    0.000    0.000    0.000 <string>:1(<module>)\n",
      "        1    0.000    0.000    0.000    0.000 re.py:192(compile)\n",
      "        1    0.000    0.000    0.000    0.000 re.py:230(_compile)\n",
      "        1    0.000    0.000    0.000    0.000 sre_compile.py:433(_compile_info)\n",
      "        2    0.000    0.000    0.000    0.000 sre_compile.py:546(isstring)\n",
      "        1    0.000    0.000    0.000    0.000 sre_compile.py:552(_code)\n",
      "        1    0.000    0.000    0.000    0.000 sre_compile.py:567(compile)\n",
      "        1    0.000    0.000    0.000    0.000 sre_compile.py:64(_compile)\n",
      "        9    0.000    0.000    0.000    0.000 sre_parse.py:149(append)\n",
      "        1    0.000    0.000    0.000    0.000 sre_parse.py:151(getwidth)\n",
      "        1    0.000    0.000    0.000    0.000 sre_parse.py:189(__init__)\n",
      "       12    0.000    0.000    0.000    0.000 sre_parse.py:193(__next)\n",
      "        1    0.000    0.000    0.000    0.000 sre_parse.py:206(match)\n",
      "       11    0.000    0.000    0.000    0.000 sre_parse.py:212(get)\n",
      "        1    0.000    0.000    0.000    0.000 sre_parse.py:317(_parse_sub)\n",
      "        1    0.000    0.000    0.000    0.000 sre_parse.py:395(_parse)\n",
      "        1    0.000    0.000    0.000    0.000 sre_parse.py:67(__init__)\n",
      "        1    0.000    0.000    0.000    0.000 sre_parse.py:706(parse)\n",
      "        1    0.000    0.000    0.000    0.000 sre_parse.py:92(__init__)\n",
      "        1    0.000    0.000    0.000    0.000 {_sre.compile}\n",
      "        3    0.000    0.000    0.000    0.000 {isinstance}\n",
      "       34    0.000    0.000    0.000    0.000 {len}\n",
      "       39    0.000    0.000    0.000    0.000 {method 'append' of 'list' objects}\n",
      "        1    0.000    0.000    0.000    0.000 {method 'disable' of '_lsprof.Profiler' objects}\n",
      "        2    0.000    0.000    0.000    0.000 {method 'extend' of 'list' objects}\n",
      "        1    0.000    0.000    0.000    0.000 {method 'items' of 'dict' objects}\n",
      "        2    0.000    0.000    0.000    0.000 {min}\n",
      "        8    0.000    0.000    0.000    0.000 {ord}\n",
      "\n",
      "\n"
     ]
    }
   ],
   "source": [
    "import life\n",
    "import cProfile\n",
    "import re\n",
    "\n",
    "life.life(n=50, plot=True)\n",
    "cProfile.run('re.compile(\"life.life\")')"
   ]
  },
  {
   "cell_type": "code",
   "execution_count": null,
   "metadata": {
    "collapsed": true
   },
   "outputs": [],
   "source": []
  }
 ],
 "metadata": {
  "kernelspec": {
   "display_name": "Python 2",
   "language": "python",
   "name": "python2"
  },
  "language_info": {
   "codemirror_mode": {
    "name": "ipython",
    "version": 2
   },
   "file_extension": ".py",
   "mimetype": "text/x-python",
   "name": "python",
   "nbconvert_exporter": "python",
   "pygments_lexer": "ipython2",
   "version": "2.7.11"
  }
 },
 "nbformat": 4,
 "nbformat_minor": 0
}

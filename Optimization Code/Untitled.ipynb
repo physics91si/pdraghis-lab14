{
 "cells": [
  {
   "cell_type": "code",
   "execution_count": 13,
   "metadata": {
    "collapsed": false
   },
   "outputs": [
    {
     "name": "stdout",
     "output_type": "stream",
     "text": [
      "10000 loops, best of 3: 84.9 µs per loop\n"
     ]
    }
   ],
   "source": [
    "%%timeit\n",
    "\n",
    "# Purposefully bad!!! Fix me!!!\n",
    "fi = open('artistdata.csv')\n",
    "txt = fi.read()\n",
    "lines = txt.split('\\n')\n",
    "lines = lines[1:] # ignore the header\n",
    "\n",
    "artists = {}"
   ]
  },
  {
   "cell_type": "code",
   "execution_count": 34,
   "metadata": {
    "collapsed": false
   },
   "outputs": [
    {
     "ename": "ValueError",
     "evalue": "Some errors were detected !\n    Line #2 (got 2 columns instead of 1)\n    Line #3 (got 2 columns instead of 1)\n    Line #6 (got 2 columns instead of 1)\n    Line #10 (got 2 columns instead of 1)\n    Line #11 (got 3 columns instead of 1)\n    Line #12 (got 2 columns instead of 1)\n    Line #13 (got 2 columns instead of 1)\n    Line #14 (got 3 columns instead of 1)\n    Line #16 (got 2 columns instead of 1)\n    Line #19 (got 2 columns instead of 1)\n    Line #20 (got 2 columns instead of 1)\n    Line #22 (got 2 columns instead of 1)\n    Line #23 (got 2 columns instead of 1)\n    Line #24 (got 2 columns instead of 1)\n    Line #25 (got 5 columns instead of 1)\n    Line #26 (got 2 columns instead of 1)\n    Line #27 (got 2 columns instead of 1)\n    Line #28 (got 2 columns instead of 1)\n    Line #29 (got 2 columns instead of 1)\n    Line #30 (got 2 columns instead of 1)\n    Line #31 (got 3 columns instead of 1)\n    Line #33 (got 2 columns instead of 1)\n    Line #34 (got 2 columns instead of 1)\n    Line #35 (got 2 columns instead of 1)\n    Line #36 (got 2 columns instead of 1)\n    Line #37 (got 2 columns instead of 1)\n    Line #38 (got 2 columns instead of 1)\n    Line #39 (got 2 columns instead of 1)\n    Line #40 (got 2 columns instead of 1)\n    Line #41 (got 2 columns instead of 1)\n    Line #42 (got 2 columns instead of 1)\n    Line #43 (got 2 columns instead of 1)\n    Line #44 (got 2 columns instead of 1)\n    Line #45 (got 2 columns instead of 1)\n    Line #46 (got 2 columns instead of 1)\n    Line #47 (got 2 columns instead of 1)\n    Line #49 (got 2 columns instead of 1)\n    Line #50 (got 2 columns instead of 1)\n    Line #51 (got 2 columns instead of 1)\n    Line #53 (got 4 columns instead of 1)\n    Line #57 (got 3 columns instead of 1)\n    Line #58 (got 2 columns instead of 1)\n    Line #59 (got 2 columns instead of 1)\n    Line #60 (got 2 columns instead of 1)\n    Line #62 (got 3 columns instead of 1)\n    Line #63 (got 2 columns instead of 1)\n    Line #64 (got 2 columns instead of 1)\n    Line #65 (got 3 columns instead of 1)\n    Line #66 (got 2 columns instead of 1)\n    Line #68 (got 2 columns instead of 1)\n    Line #70 (got 2 columns instead of 1)\n    Line #71 (got 2 columns instead of 1)\n    Line #72 (got 2 columns instead of 1)\n    Line #73 (got 3 columns instead of 1)\n    Line #74 (got 3 columns instead of 1)\n    Line #75 (got 2 columns instead of 1)\n    Line #77 (got 2 columns instead of 1)\n    Line #78 (got 2 columns instead of 1)\n    Line #80 (got 2 columns instead of 1)\n    Line #83 (got 2 columns instead of 1)\n    Line #84 (got 3 columns instead of 1)\n    Line #86 (got 2 columns instead of 1)\n    Line #88 (got 2 columns instead of 1)\n    Line #89 (got 2 columns instead of 1)\n    Line #90 (got 2 columns instead of 1)\n    Line #91 (got 2 columns instead of 1)",
     "output_type": "error",
     "traceback": [
      "\u001b[1;31m---------------------------------------------------------------------------\u001b[0m",
      "\u001b[1;31mValueError\u001b[0m                                Traceback (most recent call last)",
      "\u001b[1;32m<ipython-input-34-5182fed5051e>\u001b[0m in \u001b[0;36m<module>\u001b[1;34m()\u001b[0m\n\u001b[0;32m      2\u001b[0m \u001b[1;32mimport\u001b[0m \u001b[0mnumpy\u001b[0m \u001b[1;32mas\u001b[0m \u001b[0mnp\u001b[0m\u001b[1;33m\u001b[0m\u001b[0m\n\u001b[0;32m      3\u001b[0m \u001b[1;33m\u001b[0m\u001b[0m\n\u001b[1;32m----> 4\u001b[1;33m \u001b[0mdata\u001b[0m\u001b[1;33m=\u001b[0m\u001b[0mnp\u001b[0m\u001b[1;33m.\u001b[0m\u001b[0mgenfromtxt\u001b[0m\u001b[1;33m(\u001b[0m\u001b[1;34m'artistdata.csv'\u001b[0m\u001b[1;33m,\u001b[0m \u001b[0mdtype\u001b[0m\u001b[1;33m=\u001b[0m\u001b[0mstr\u001b[0m\u001b[1;33m)\u001b[0m\u001b[1;33m\u001b[0m\u001b[0m\n\u001b[0m\u001b[0;32m      5\u001b[0m \u001b[1;32mprint\u001b[0m \u001b[0mdata\u001b[0m\u001b[1;33m\u001b[0m\u001b[0m\n",
      "\u001b[1;32mC:\\Anaconda2\\lib\\site-packages\\numpy\\lib\\npyio.pyc\u001b[0m in \u001b[0;36mgenfromtxt\u001b[1;34m(fname, dtype, comments, delimiter, skip_header, skip_footer, converters, missing_values, filling_values, usecols, names, excludelist, deletechars, replace_space, autostrip, case_sensitive, defaultfmt, unpack, usemask, loose, invalid_raise, max_rows)\u001b[0m\n\u001b[0;32m   1767\u001b[0m             \u001b[1;31m# Raise an exception ?\u001b[0m\u001b[1;33m\u001b[0m\u001b[1;33m\u001b[0m\u001b[0m\n\u001b[0;32m   1768\u001b[0m             \u001b[1;32mif\u001b[0m \u001b[0minvalid_raise\u001b[0m\u001b[1;33m:\u001b[0m\u001b[1;33m\u001b[0m\u001b[0m\n\u001b[1;32m-> 1769\u001b[1;33m                 \u001b[1;32mraise\u001b[0m \u001b[0mValueError\u001b[0m\u001b[1;33m(\u001b[0m\u001b[0merrmsg\u001b[0m\u001b[1;33m)\u001b[0m\u001b[1;33m\u001b[0m\u001b[0m\n\u001b[0m\u001b[0;32m   1770\u001b[0m             \u001b[1;31m# Issue a warning ?\u001b[0m\u001b[1;33m\u001b[0m\u001b[1;33m\u001b[0m\u001b[0m\n\u001b[0;32m   1771\u001b[0m             \u001b[1;32melse\u001b[0m\u001b[1;33m:\u001b[0m\u001b[1;33m\u001b[0m\u001b[0m\n",
      "\u001b[1;31mValueError\u001b[0m: Some errors were detected !\n    Line #2 (got 2 columns instead of 1)\n    Line #3 (got 2 columns instead of 1)\n    Line #6 (got 2 columns instead of 1)\n    Line #10 (got 2 columns instead of 1)\n    Line #11 (got 3 columns instead of 1)\n    Line #12 (got 2 columns instead of 1)\n    Line #13 (got 2 columns instead of 1)\n    Line #14 (got 3 columns instead of 1)\n    Line #16 (got 2 columns instead of 1)\n    Line #19 (got 2 columns instead of 1)\n    Line #20 (got 2 columns instead of 1)\n    Line #22 (got 2 columns instead of 1)\n    Line #23 (got 2 columns instead of 1)\n    Line #24 (got 2 columns instead of 1)\n    Line #25 (got 5 columns instead of 1)\n    Line #26 (got 2 columns instead of 1)\n    Line #27 (got 2 columns instead of 1)\n    Line #28 (got 2 columns instead of 1)\n    Line #29 (got 2 columns instead of 1)\n    Line #30 (got 2 columns instead of 1)\n    Line #31 (got 3 columns instead of 1)\n    Line #33 (got 2 columns instead of 1)\n    Line #34 (got 2 columns instead of 1)\n    Line #35 (got 2 columns instead of 1)\n    Line #36 (got 2 columns instead of 1)\n    Line #37 (got 2 columns instead of 1)\n    Line #38 (got 2 columns instead of 1)\n    Line #39 (got 2 columns instead of 1)\n    Line #40 (got 2 columns instead of 1)\n    Line #41 (got 2 columns instead of 1)\n    Line #42 (got 2 columns instead of 1)\n    Line #43 (got 2 columns instead of 1)\n    Line #44 (got 2 columns instead of 1)\n    Line #45 (got 2 columns instead of 1)\n    Line #46 (got 2 columns instead of 1)\n    Line #47 (got 2 columns instead of 1)\n    Line #49 (got 2 columns instead of 1)\n    Line #50 (got 2 columns instead of 1)\n    Line #51 (got 2 columns instead of 1)\n    Line #53 (got 4 columns instead of 1)\n    Line #57 (got 3 columns instead of 1)\n    Line #58 (got 2 columns instead of 1)\n    Line #59 (got 2 columns instead of 1)\n    Line #60 (got 2 columns instead of 1)\n    Line #62 (got 3 columns instead of 1)\n    Line #63 (got 2 columns instead of 1)\n    Line #64 (got 2 columns instead of 1)\n    Line #65 (got 3 columns instead of 1)\n    Line #66 (got 2 columns instead of 1)\n    Line #68 (got 2 columns instead of 1)\n    Line #70 (got 2 columns instead of 1)\n    Line #71 (got 2 columns instead of 1)\n    Line #72 (got 2 columns instead of 1)\n    Line #73 (got 3 columns instead of 1)\n    Line #74 (got 3 columns instead of 1)\n    Line #75 (got 2 columns instead of 1)\n    Line #77 (got 2 columns instead of 1)\n    Line #78 (got 2 columns instead of 1)\n    Line #80 (got 2 columns instead of 1)\n    Line #83 (got 2 columns instead of 1)\n    Line #84 (got 3 columns instead of 1)\n    Line #86 (got 2 columns instead of 1)\n    Line #88 (got 2 columns instead of 1)\n    Line #89 (got 2 columns instead of 1)\n    Line #90 (got 2 columns instead of 1)\n    Line #91 (got 2 columns instead of 1)"
     ]
    }
   ],
   "source": [
    "#%%timeit\n",
    "import numpy as np\n",
    "\n",
    "data=np.genfromtxt('artistdata.csv', dtype=str)\n",
    "print data"
   ]
  },
  {
   "cell_type": "code",
   "execution_count": 20,
   "metadata": {
    "collapsed": false
   },
   "outputs": [
    {
     "name": "stdout",
     "output_type": "stream",
     "text": [
      "1000 loops, best of 3: 547 µs per loop\n"
     ]
    }
   ],
   "source": [
    "%%timeit\n",
    "for line in lines:\n",
    "    sp = line.split(',')\n",
    "    artist = sp[0]\n",
    "    rest = sp[1:]\n",
    "    vector = []\n",
    "    for i in rest:\n",
    "        vector.append(float(i))\n",
    "    artists[artist] = vector"
   ]
  },
  {
   "cell_type": "code",
   "execution_count": 11,
   "metadata": {
    "collapsed": false
   },
   "outputs": [
    {
     "name": "stdout",
     "output_type": "stream",
     "text": [
      "10000000 loops, best of 3: 78.4 ns per loop\n"
     ]
    }
   ],
   "source": [
    "%%timeit\n",
    "reference = 'Pink Floyd' # compare artists to pink floyd\n",
    "refvector = artists[reference]\n",
    "\n",
    "similarities = []"
   ]
  },
  {
   "cell_type": "code",
   "execution_count": 12,
   "metadata": {
    "collapsed": false
   },
   "outputs": [
    {
     "ename": "NameError",
     "evalue": "global name 'reference' is not defined",
     "output_type": "error",
     "traceback": [
      "\u001b[1;31m---------------------------------------------------------------------------\u001b[0m",
      "\u001b[1;31mNameError\u001b[0m                                 Traceback (most recent call last)",
      "\u001b[1;32m<ipython-input-12-4329e06c6941>\u001b[0m in \u001b[0;36m<module>\u001b[1;34m()\u001b[0m\n\u001b[1;32m----> 1\u001b[1;33m \u001b[0mget_ipython\u001b[0m\u001b[1;33m(\u001b[0m\u001b[1;33m)\u001b[0m\u001b[1;33m.\u001b[0m\u001b[0mrun_cell_magic\u001b[0m\u001b[1;33m(\u001b[0m\u001b[1;34mu'timeit'\u001b[0m\u001b[1;33m,\u001b[0m \u001b[1;34mu''\u001b[0m\u001b[1;33m,\u001b[0m \u001b[1;34mu\"for artist in artists:\\n    vector = artists[artist]\\n    if artist != reference:\\n        # Let's calculate the similarity\\n        numerator = 0\\n        for i in range(len(vector)):\\n            numerator = numerator + vector[i]*refvector[i]\\n        \"\u001b[0m\u001b[1;33m)\u001b[0m\u001b[1;33m\u001b[0m\u001b[0m\n\u001b[0m",
      "\u001b[1;32mC:\\Anaconda2\\lib\\site-packages\\IPython\\core\\interactiveshell.pyc\u001b[0m in \u001b[0;36mrun_cell_magic\u001b[1;34m(self, magic_name, line, cell)\u001b[0m\n\u001b[0;32m   2118\u001b[0m             \u001b[0mmagic_arg_s\u001b[0m \u001b[1;33m=\u001b[0m \u001b[0mself\u001b[0m\u001b[1;33m.\u001b[0m\u001b[0mvar_expand\u001b[0m\u001b[1;33m(\u001b[0m\u001b[0mline\u001b[0m\u001b[1;33m,\u001b[0m \u001b[0mstack_depth\u001b[0m\u001b[1;33m)\u001b[0m\u001b[1;33m\u001b[0m\u001b[0m\n\u001b[0;32m   2119\u001b[0m             \u001b[1;32mwith\u001b[0m \u001b[0mself\u001b[0m\u001b[1;33m.\u001b[0m\u001b[0mbuiltin_trap\u001b[0m\u001b[1;33m:\u001b[0m\u001b[1;33m\u001b[0m\u001b[0m\n\u001b[1;32m-> 2120\u001b[1;33m                 \u001b[0mresult\u001b[0m \u001b[1;33m=\u001b[0m \u001b[0mfn\u001b[0m\u001b[1;33m(\u001b[0m\u001b[0mmagic_arg_s\u001b[0m\u001b[1;33m,\u001b[0m \u001b[0mcell\u001b[0m\u001b[1;33m)\u001b[0m\u001b[1;33m\u001b[0m\u001b[0m\n\u001b[0m\u001b[0;32m   2121\u001b[0m             \u001b[1;32mreturn\u001b[0m \u001b[0mresult\u001b[0m\u001b[1;33m\u001b[0m\u001b[0m\n\u001b[0;32m   2122\u001b[0m \u001b[1;33m\u001b[0m\u001b[0m\n",
      "\u001b[1;32m<decorator-gen-60>\u001b[0m in \u001b[0;36mtimeit\u001b[1;34m(self, line, cell)\u001b[0m\n",
      "\u001b[1;32mC:\\Anaconda2\\lib\\site-packages\\IPython\\core\\magic.pyc\u001b[0m in \u001b[0;36m<lambda>\u001b[1;34m(f, *a, **k)\u001b[0m\n\u001b[0;32m    191\u001b[0m     \u001b[1;31m# but it's overkill for just that one bit of state.\u001b[0m\u001b[1;33m\u001b[0m\u001b[1;33m\u001b[0m\u001b[0m\n\u001b[0;32m    192\u001b[0m     \u001b[1;32mdef\u001b[0m \u001b[0mmagic_deco\u001b[0m\u001b[1;33m(\u001b[0m\u001b[0marg\u001b[0m\u001b[1;33m)\u001b[0m\u001b[1;33m:\u001b[0m\u001b[1;33m\u001b[0m\u001b[0m\n\u001b[1;32m--> 193\u001b[1;33m         \u001b[0mcall\u001b[0m \u001b[1;33m=\u001b[0m \u001b[1;32mlambda\u001b[0m \u001b[0mf\u001b[0m\u001b[1;33m,\u001b[0m \u001b[1;33m*\u001b[0m\u001b[0ma\u001b[0m\u001b[1;33m,\u001b[0m \u001b[1;33m**\u001b[0m\u001b[0mk\u001b[0m\u001b[1;33m:\u001b[0m \u001b[0mf\u001b[0m\u001b[1;33m(\u001b[0m\u001b[1;33m*\u001b[0m\u001b[0ma\u001b[0m\u001b[1;33m,\u001b[0m \u001b[1;33m**\u001b[0m\u001b[0mk\u001b[0m\u001b[1;33m)\u001b[0m\u001b[1;33m\u001b[0m\u001b[0m\n\u001b[0m\u001b[0;32m    194\u001b[0m \u001b[1;33m\u001b[0m\u001b[0m\n\u001b[0;32m    195\u001b[0m         \u001b[1;32mif\u001b[0m \u001b[0mcallable\u001b[0m\u001b[1;33m(\u001b[0m\u001b[0marg\u001b[0m\u001b[1;33m)\u001b[0m\u001b[1;33m:\u001b[0m\u001b[1;33m\u001b[0m\u001b[0m\n",
      "\u001b[1;32mC:\\Anaconda2\\lib\\site-packages\\IPython\\core\\magics\\execution.pyc\u001b[0m in \u001b[0;36mtimeit\u001b[1;34m(self, line, cell)\u001b[0m\n\u001b[0;32m   1039\u001b[0m             \u001b[0mnumber\u001b[0m \u001b[1;33m=\u001b[0m \u001b[1;36m1\u001b[0m\u001b[1;33m\u001b[0m\u001b[0m\n\u001b[0;32m   1040\u001b[0m             \u001b[1;32mfor\u001b[0m \u001b[0m_\u001b[0m \u001b[1;32min\u001b[0m \u001b[0mrange\u001b[0m\u001b[1;33m(\u001b[0m\u001b[1;36m1\u001b[0m\u001b[1;33m,\u001b[0m \u001b[1;36m10\u001b[0m\u001b[1;33m)\u001b[0m\u001b[1;33m:\u001b[0m\u001b[1;33m\u001b[0m\u001b[0m\n\u001b[1;32m-> 1041\u001b[1;33m                 \u001b[0mtime_number\u001b[0m \u001b[1;33m=\u001b[0m \u001b[0mtimer\u001b[0m\u001b[1;33m.\u001b[0m\u001b[0mtimeit\u001b[0m\u001b[1;33m(\u001b[0m\u001b[0mnumber\u001b[0m\u001b[1;33m)\u001b[0m\u001b[1;33m\u001b[0m\u001b[0m\n\u001b[0m\u001b[0;32m   1042\u001b[0m                 \u001b[0mworst_tuning\u001b[0m \u001b[1;33m=\u001b[0m \u001b[0mmax\u001b[0m\u001b[1;33m(\u001b[0m\u001b[0mworst_tuning\u001b[0m\u001b[1;33m,\u001b[0m \u001b[0mtime_number\u001b[0m \u001b[1;33m/\u001b[0m \u001b[0mnumber\u001b[0m\u001b[1;33m)\u001b[0m\u001b[1;33m\u001b[0m\u001b[0m\n\u001b[0;32m   1043\u001b[0m                 \u001b[1;32mif\u001b[0m \u001b[0mtime_number\u001b[0m \u001b[1;33m>=\u001b[0m \u001b[1;36m0.2\u001b[0m\u001b[1;33m:\u001b[0m\u001b[1;33m\u001b[0m\u001b[0m\n",
      "\u001b[1;32mC:\\Anaconda2\\lib\\site-packages\\IPython\\core\\magics\\execution.pyc\u001b[0m in \u001b[0;36mtimeit\u001b[1;34m(self, number)\u001b[0m\n\u001b[0;32m    135\u001b[0m         \u001b[0mgc\u001b[0m\u001b[1;33m.\u001b[0m\u001b[0mdisable\u001b[0m\u001b[1;33m(\u001b[0m\u001b[1;33m)\u001b[0m\u001b[1;33m\u001b[0m\u001b[0m\n\u001b[0;32m    136\u001b[0m         \u001b[1;32mtry\u001b[0m\u001b[1;33m:\u001b[0m\u001b[1;33m\u001b[0m\u001b[0m\n\u001b[1;32m--> 137\u001b[1;33m             \u001b[0mtiming\u001b[0m \u001b[1;33m=\u001b[0m \u001b[0mself\u001b[0m\u001b[1;33m.\u001b[0m\u001b[0minner\u001b[0m\u001b[1;33m(\u001b[0m\u001b[0mit\u001b[0m\u001b[1;33m,\u001b[0m \u001b[0mself\u001b[0m\u001b[1;33m.\u001b[0m\u001b[0mtimer\u001b[0m\u001b[1;33m)\u001b[0m\u001b[1;33m\u001b[0m\u001b[0m\n\u001b[0m\u001b[0;32m    138\u001b[0m         \u001b[1;32mfinally\u001b[0m\u001b[1;33m:\u001b[0m\u001b[1;33m\u001b[0m\u001b[0m\n\u001b[0;32m    139\u001b[0m             \u001b[1;32mif\u001b[0m \u001b[0mgcold\u001b[0m\u001b[1;33m:\u001b[0m\u001b[1;33m\u001b[0m\u001b[0m\n",
      "\u001b[1;32m<magic-timeit>\u001b[0m in \u001b[0;36minner\u001b[1;34m(_it, _timer)\u001b[0m\n",
      "\u001b[1;31mNameError\u001b[0m: global name 'reference' is not defined"
     ]
    }
   ],
   "source": [
    "%%timeit\n",
    "for artist in artists:\n",
    "    vector = artists[artist]\n",
    "    if artist != reference:\n",
    "        # Let's calculate the similarity\n",
    "        numerator = 0\n",
    "        for i in range(len(vector)):\n",
    "            numerator = numerator + vector[i]*refvector[i]\n",
    "        "
   ]
  },
  {
   "cell_type": "code",
   "execution_count": null,
   "metadata": {
    "collapsed": true
   },
   "outputs": [],
   "source": [
    "        \n",
    "        # Find the norms\n",
    "        norm1 = 0\n",
    "        for v in vector:\n",
    "            norm1 = norm1 + v*v\n",
    "        import math\n",
    "        norm1 = math.sqrt(norm1)\n",
    "        norm2 = 0\n",
    "        for v in refvector:\n",
    "            norm2 = norm2 + v*v\n",
    "        norm2 = math.sqrt(norm2)\n",
    "        sim = numerator/(norm1*norm2)\n",
    "        #print artist, sim\n",
    "        similarities.append((artist,sim))\n",
    "        "
   ]
  },
  {
   "cell_type": "code",
   "execution_count": null,
   "metadata": {
    "collapsed": true
   },
   "outputs": [],
   "source": [
    "# Don't worry about this, it just sorts the list and prints the first 10\n",
    "print '\\n'.join('%d%% - %s'%(a*100, b) for (b,a) in sorted(similarities,key=lambda x:x[1],reverse=True)[:10])"
   ]
  }
 ],
 "metadata": {
  "kernelspec": {
   "display_name": "Python 2",
   "language": "python",
   "name": "python2"
  },
  "language_info": {
   "codemirror_mode": {
    "name": "ipython",
    "version": 2
   },
   "file_extension": ".py",
   "mimetype": "text/x-python",
   "name": "python",
   "nbconvert_exporter": "python",
   "pygments_lexer": "ipython2",
   "version": "2.7.11"
  }
 },
 "nbformat": 4,
 "nbformat_minor": 0
}
